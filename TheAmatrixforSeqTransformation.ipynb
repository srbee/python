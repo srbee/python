{
  "nbformat": 4,
  "nbformat_minor": 0,
  "metadata": {
    "colab": {
      "name": "TheAmatrixforSeqTransformation.ipynb",
      "version": "0.3.2",
      "provenance": [],
      "collapsed_sections": [],
      "include_colab_link": true
    },
    "kernelspec": {
      "name": "python3",
      "display_name": "Python 3"
    }
  },
  "cells": [
    {
      "cell_type": "markdown",
      "metadata": {
        "id": "view-in-github",
        "colab_type": "text"
      },
      "source": [
        "<a href=\"https://colab.research.google.com/github/srbee/python/blob/master/TheAmatrixforSeqTransformation.ipynb\" target=\"_parent\"><img src=\"https://colab.research.google.com/assets/colab-badge.svg\" alt=\"Open In Colab\"/></a>"
      ]
    },
    {
      "cell_type": "markdown",
      "metadata": {
        "id": "5m0Qeze_ZplT",
        "colab_type": "text"
      },
      "source": [
        "a= 1/_120\n",
        "a=cos(120)+j sin(120)"
      ]
    },
    {
      "cell_type": "code",
      "metadata": {
        "id": "oO_crCRiZ97F",
        "colab_type": "code",
        "colab": {
          "base_uri": "https://localhost:8080/",
          "height": 71
        },
        "outputId": "5f3a7987-ad10-46d5-b54c-414e0ddf3a89"
      },
      "source": [
        "import math\n",
        "import numpy as np\n",
        "pi=math.pi\n",
        "a_real=math.cos(math.radians(120))\n",
        "a_imag=math.sin(math.radians(120))\n",
        "a=a_real+a_imag*1j\n",
        "print (a)\n",
        "A=[[1, 1,   1 ],\n",
        "   [1, a*a, a ],\n",
        "   [1, a , a*a]]\n",
        "print(A)"
      ],
      "execution_count": 6,
      "outputs": [
        {
          "output_type": "stream",
          "text": [
            "(-0.4999999999999998+0.8660254037844387j)\n",
            "[[1, 1, 1], [1, (-0.5000000000000003-0.8660254037844384j), (-0.4999999999999998+0.8660254037844387j)], [1, (-0.4999999999999998+0.8660254037844387j), (-0.5000000000000003-0.8660254037844384j)]]\n"
          ],
          "name": "stdout"
        }
      ]
    },
    {
      "cell_type": "code",
      "metadata": {
        "id": "JnOctw6wZ2ms",
        "colab_type": "code",
        "colab": {}
      },
      "source": [
        ""
      ],
      "execution_count": 0,
      "outputs": []
    }
  ]
}