{
  "nbformat": 4,
  "nbformat_minor": 0,
  "metadata": {
    "colab": {
      "name": "mySympy.ipynb",
      "version": "0.3.2",
      "provenance": [],
      "collapsed_sections": [],
      "include_colab_link": true
    },
    "kernelspec": {
      "name": "python3",
      "display_name": "Python 3"
    }
  },
  "cells": [
    {
      "cell_type": "markdown",
      "metadata": {
        "id": "view-in-github",
        "colab_type": "text"
      },
      "source": [
        "<a href=\"https://colab.research.google.com/github/srbee/python/blob/master/mySympy.ipynb\" target=\"_parent\"><img src=\"https://colab.research.google.com/assets/colab-badge.svg\" alt=\"Open In Colab\"/></a>"
      ]
    },
    {
      "cell_type": "code",
      "metadata": {
        "id": "yPOqo46XMP9v",
        "colab_type": "code",
        "colab": {
          "base_uri": "https://localhost:8080/",
          "height": 86
        },
        "outputId": "c2232ccf-6bf9-48de-e4e4-a1ebf9d596ea"
      },
      "source": [
        "import sympy as sp\n",
        "# help(sp)\n",
        "a=sp.Rational(22/7)\n",
        "print(a)\n",
        "from sympy import pi,E\n",
        "print(pi,E)\n",
        "pi_val=pi.evalf()\n",
        "print(pi_val)\n",
        "x=sp.Symbol('x')\n",
        "sp.solve(x*x+2*x+10)"
      ],
      "execution_count": 24,
      "outputs": [
        {
          "output_type": "stream",
          "text": [
            "7077085128725065/2251799813685248\n",
            "pi E\n",
            "3.14159265358979\n"
          ],
          "name": "stdout"
        },
        {
          "output_type": "execute_result",
          "data": {
            "text/plain": [
              "[-1 - 3*I, -1 + 3*I]"
            ]
          },
          "metadata": {
            "tags": []
          },
          "execution_count": 24
        }
      ]
    }
  ]
}