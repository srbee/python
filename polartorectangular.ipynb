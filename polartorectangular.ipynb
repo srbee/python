{
  "nbformat": 4,
  "nbformat_minor": 0,
  "metadata": {
    "colab": {
      "name": "polartorectangular.ipynb",
      "version": "0.3.2",
      "provenance": [],
      "collapsed_sections": [],
      "include_colab_link": true
    },
    "kernelspec": {
      "name": "python3",
      "display_name": "Python 3"
    }
  },
  "cells": [
    {
      "cell_type": "markdown",
      "metadata": {
        "id": "view-in-github",
        "colab_type": "text"
      },
      "source": [
        "<a href=\"https://colab.research.google.com/github/srbee/python/blob/master/polartorectangular.ipynb\" target=\"_parent\"><img src=\"https://colab.research.google.com/assets/colab-badge.svg\" alt=\"Open In Colab\"/></a>"
      ]
    },
    {
      "cell_type": "markdown",
      "metadata": {
        "id": "muoXr4ylxwKN",
        "colab_type": "text"
      },
      "source": [
        "# Polar to Rectangular"
      ]
    },
    {
      "cell_type": "code",
      "metadata": {
        "id": "sadAT9S9vWid",
        "colab_type": "code",
        "colab": {
          "base_uri": "https://localhost:8080/",
          "height": 190
        },
        "outputId": "6c1a843c-e976-4324-ea77-02c3b684e749"
      },
      "source": [
        "import math\n",
        "\n",
        "pi=math.pi\n",
        "print(pi)\n",
        "\n",
        "def p2r(mag,ang,flag='rad'):\n",
        "    '''\n",
        "    Polar to rectangular\n",
        "    if flag='deg' then angle is taken in degrees else in radians\n",
        "    default value of flag is 'rad'. \n",
        "    So if you do not specify the third parameter , i,e, the flag then it is taken as radians\n",
        "    '''\n",
        "    if(flag=='deg'):\n",
        "        ang=math.radians(ang)\n",
        "        \n",
        "    x=mag*math.cos(ang)\n",
        "    y=mag*math.sin(ang)\n",
        "    z=x+y*1j\n",
        "    return(z)\n",
        "z1=p2r(5,.8)\n",
        "print(z1)\n",
        "help(p2r)"
      ],
      "execution_count": 11,
      "outputs": [
        {
          "output_type": "stream",
          "text": [
            "3.141592653589793\n",
            "(3.483533546735827+3.586780454497614j)\n",
            "Help on function p2r in module __main__:\n",
            "\n",
            "p2r(mag, ang, flag='rad')\n",
            "    Polar to rectangular\n",
            "    if flag='deg' then angle is taken in degrees else in radians\n",
            "    default value of flag is 'rad'. \n",
            "    So if you do not specify the third parameter , i,e, the flag then it is taken as radians\n",
            "\n"
          ],
          "name": "stdout"
        }
      ]
    }
  ]
}