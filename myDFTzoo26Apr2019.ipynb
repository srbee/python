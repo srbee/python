{
  "nbformat": 4,
  "nbformat_minor": 0,
  "metadata": {
    "colab": {
      "name": "myDFTzoo26Apr2019.ipynb",
      "version": "0.3.2",
      "provenance": [],
      "collapsed_sections": [],
      "include_colab_link": true
    },
    "kernelspec": {
      "name": "python3",
      "display_name": "Python 3"
    }
  },
  "cells": [
    {
      "cell_type": "markdown",
      "metadata": {
        "id": "view-in-github",
        "colab_type": "text"
      },
      "source": [
        "<a href=\"https://colab.research.google.com/github/srbee/python/blob/master/myDFTzoo26Apr2019.ipynb\" target=\"_parent\"><img src=\"https://colab.research.google.com/assets/colab-badge.svg\" alt=\"Open In Colab\"/></a>"
      ]
    },
    {
      "metadata": {
        "id": "zfeNY8FHI9Ta",
        "colab_type": "code",
        "outputId": "9d1f1f74-d132-4f91-842b-d8623d422d3f",
        "colab": {
          "base_uri": "https://localhost:8080/",
          "height": 608
        }
      },
      "cell_type": "code",
      "source": [
        "import math\n",
        "import numpy as np\n",
        "import scipy as sp  # check whether this is correct\n",
        "import matplotlib.pyplot as plt\n",
        "\n",
        "def myDFT(samp):\n",
        "    \"\"\"\n",
        "    myDFT accepts variable number of samples\n",
        "    \n",
        "    \"\"\"\n",
        "    samples=np.array(samp,'float') # convert in to array using numpy\n",
        "    N=len(samples)\n",
        "    Xcos=np.zeros(N)\n",
        "    Xsin=np.zeros(N)\n",
        "    Xmag=np.zeros(N)\n",
        "    \n",
        "    print(\"No of samples= \",N)\n",
        "    \n",
        "    k=0\n",
        "    for m in range(N):\n",
        "        for n in range(N):\n",
        "            Xcos[m]=Xcos[m]+samples[n]*math.cos((2*math.pi*m*n)/N)\n",
        "            Xsin[m]=Xsin[m]+samples[n]*math.sin((2*math.pi*m*n)/N)\n",
        "            Xmag[m]=math.sqrt(Xcos[m]*Xcos[m]+Xsin[m]*Xsin[m])\n",
        "            k+=1\n",
        "            \n",
        "    #print('Xcos=',Xcos)\n",
        "    #print('Xsin=',Xsin)\n",
        "    return (N,Xmag,samples) # Returning a tuple ( three values)\n",
        "#========================================================================\n",
        "#==================== End of function myDFT(signal) =====================\n",
        "#========================================================================\n",
        "\n",
        "print('=== My DFT Jupyter+Lab + Python 3 using variable number of arguments')\n",
        "\n",
        "#============= Signal Zoo =========================================\n",
        "\n",
        "\n",
        "\n",
        "imp1=[100] # impulse at t=0\n",
        "imp1.extend(np.zeros(19)) # Signal No 1\n",
        "\n",
        "imp2=[0*x for x in range(10)] # impulse at centre of window\n",
        "imp2.extend([100])\n",
        "imp2.extend(np.zeros(10)) # Signal No.2\n",
        " \n",
        "constant_dc=100*np.ones(20) # Signal No.3 \n",
        "\n",
        "pc=[0*x for x in range(160)] # Pulse at centre of window\n",
        "pc.extend(100*np.ones(4))\n",
        "pc.extend([0*x for x in range(160)]) # Signal No 4\n",
        "\n",
        "ps=[100  for x in range(4) ] # Pulse at the start of the window\n",
        "ps.extend(np.zeros(160)) # Signal No. 5\n",
        "\n",
        "ramp=[x for x in range(20)] # Signal No. 6\n",
        "\n",
        "triangle=[x for x in range(10)] # Triangle\n",
        "triangle.extend([10-x for x in range(11)]) # Signal No 7\n",
        "\n",
        "sawtooth=[x for x in range(110)] # Sawtooth\n",
        "sawtooth.extend([x for x in range(110)]) # Signal No. 8\n",
        "\n",
        "trapz=[x for x in range (11)] # Trapezoidal \n",
        "trapz.extend([10 for x in range(11)])\n",
        "trapz.extend([10-x for x in range(11)]) # Signal No 9\n",
        "\n",
        "cosine =[100*math.cos(x) for x in np.arange(0,2*math.pi,math.pi/18)] # Sig No.10\n",
        "\n",
        "sine =[100*math.sin(x) for x in np.arange(0,2*math.pi,math.pi/18)]#sig No 11\n",
        "\n",
        "halfwave= [100*math.sin(x) if (x<=math.pi) else 0  for x in np.arange(0,2*math.pi,math.pi/36) ] # Sig No 12\n",
        "\n",
        "fullwave=[abs(100*math.sin(x)) for x in np.arange(0,2*math.pi,math.pi/36)] #  Sig No. 13\n",
        "\n",
        "squares=[x*x for x in np.arange(1,20,1)] # Sig No 14\n",
        "\n",
        "n=10\n",
        "nonlin_incr =[pow(x,n) for x in np.arange(.1,2,.01)] # Sig No 15\n",
        "\n",
        "nonlin_decr =[100*pow(x,1) for x in np.arange(0.1,2,.01)] # Sig No. 16\n",
        "\n",
        "e=math.exp(1) \n",
        "\n",
        "ed=[100*pow(e,2)*pow(e,-t) for t in np.arange(0,2,0.2)] # Sig No  17\n",
        "\n",
        "ei=[100*pow(e, t) for t in np.arange(0,2,0.2,)] # Sig No 18\n",
        "\n",
        "ei_copy=ei\n",
        "\n",
        "ei_copy.extend(ed) # Double exponential ( rise followed by decay)\n",
        "double_expo=ei_copy # Sig No 19\n",
        "\n",
        "#================= End of Signal Zoo  ========================\n",
        "#print(msig)\n",
        "#===================================================================\n",
        "#========================================================\n",
        "N,XX,signal=myDFT(trapz)#  <= Call to myDFT(signal)\n",
        "#========================================================\n",
        "#===================================================================\n",
        "Nby2=int(N/2)\n",
        "XXX=np.roll(XX,Nby2)\n",
        "# third entity returned is the name of the input array\n",
        "x = np.arange(N) \n",
        "xshift=x-Nby2\n",
        "#print(xshift)\n",
        "#==========  For plotting signal waveform ======================\n",
        "markerline, stemlines, baseline = plt.stem(x,signal, '-*')\n",
        "# setting property of baseline with color red and linewidth 2\n",
        "plt.setp(baseline, color='b', linewidth=2)\n",
        "plt.title('Input signal samples')\n",
        "plt.xlabel('Sample no. ')\n",
        "plt.ylabel('Sample Value')\n",
        "plt.show() # Signal waveform\n",
        "#===============================================================\n",
        "\n",
        "#========== For plotting DFT ===================================\n",
        "markerline, stemlines, baseline = plt.stem(xshift, XXX, '-*')\n",
        "# setting property of baseline with color red and linewidth 2\n",
        "plt.setp(baseline, color='b', linewidth=2)\n",
        "plt.title('DFT' )\n",
        "plt.xlabel('Harmonic number')\n",
        "plt.ylabel('Magnitude of harmonic')\n",
        "\n",
        "plt.show() #  DFT \n",
        "#========================================\n",
        "\n",
        "from scipy.fftpack import fft, ifft\n",
        "y=abs(fft(signal))\n",
        "#print(XX)\n",
        "#print(y)\n",
        "#print(XX-y)"
      ],
      "execution_count": 55,
      "outputs": [
        {
          "output_type": "stream",
          "text": [
            "=== My DFT Jupyter+Lab + Python 3 using variable number of arguments\n",
            "No of samples=  33\n"
          ],
          "name": "stdout"
        },
        {
          "output_type": "display_data",
          "data": {
            "image/png": "[encoded data removed]",
            "text/plain": [
              "<Figure size 432x288 with 1 Axes>"
            ]
          },
          "metadata": {
            "tags": []
          }
        },
        {
          "output_type": "display_data",
          "data": {
            "image/png": "[encoded data removed]",
            "text/plain": [
              "<Figure size 432x288 with 1 Axes>"
            ]
          },
          "metadata": {
            "tags": []
          }
        }
      ]
    }
  ]
}