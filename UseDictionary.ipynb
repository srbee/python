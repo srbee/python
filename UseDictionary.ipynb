{
  "nbformat": 4,
  "nbformat_minor": 0,
  "metadata": {
    "colab": {
      "name": "UseDictionary.ipynb",
      "version": "0.3.2",
      "provenance": [],
      "collapsed_sections": [],
      "include_colab_link": true
    },
    "kernelspec": {
      "name": "python3",
      "display_name": "Python 3"
    }
  },
  "cells": [
    {
      "cell_type": "markdown",
      "metadata": {
        "id": "view-in-github",
        "colab_type": "text"
      },
      "source": [
        "<a href=\"https://colab.research.google.com/github/srbee/python/blob/master/UseDictionary.ipynb\" target=\"_parent\"><img src=\"https://colab.research.google.com/assets/colab-badge.svg\" alt=\"Open In Colab\"/></a>"
      ]
    },
    {
      "metadata": {
        "id": "bv_5u3VIQEyn",
        "colab_type": "code",
        "colab": {}
      },
      "cell_type": "code",
      "source": [
        "Trying to use Dictionary"
      ],
      "execution_count": 0,
      "outputs": []
    },
    {
      "metadata": {
        "id": "DF_o0daNQJvr",
        "colab_type": "code",
        "colab": {
          "base_uri": "https://localhost:8080/",
          "height": 277
        },
        "outputId": "4a9eac20-5d90-4d58-df94-a2b68163e50d"
      },
      "cell_type": "code",
      "source": [
        "prot={'Xmer':'Diff',\n",
        "      'Short LVLine':'DTOC',\n",
        "      'Long LV Line':'IDMT',\n",
        "      'Long LV Line with high X/R ratio ':'DTOC',\n",
        "      'EHV Line':'Distance',\n",
        "      'EHV Line':'Carrier Aided Distance',\n",
        "      'LV motor' :'Fuse',\n",
        "      'HV motor' :'IDMT',\n",
        "      'Very Large HV motor':'Differential'\n",
        "      \n",
        "     }\n",
        "print('Xmer' in prot)\n",
        "print('transformer' in prot)\n",
        "print('==============================')\n",
        "print('Protection for PS Elements')\n",
        "print('============================')\n",
        "print('Element              Protection')\n",
        "print('=================================')\n",
        "for key,val in prot.items():\n",
        "    print (key,\" =>  \",val)\n"
      ],
      "execution_count": 19,
      "outputs": [
        {
          "output_type": "stream",
          "text": [
            "True\n",
            "False\n",
            "==============================\n",
            "Protection for PS Elements\n",
            "============================\n",
            "Element              Protection\n",
            "=================================\n",
            "Xmer  =>   Diff\n",
            "Short LVLine  =>   DTOC\n",
            "Long LV Line  =>   IDMT\n",
            "Long LV Line with high X/R ratio   =>   DTOC\n",
            "EHV Line  =>   Carrier Aided Distance\n",
            "LV motor  =>   Fuse\n",
            "HV motor  =>   IDMT\n",
            "Very Large HV motor  =>   Differential\n"
          ],
          "name": "stdout"
        }
      ]
    }
  ]
}