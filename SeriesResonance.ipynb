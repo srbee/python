{
  "nbformat": 4,
  "nbformat_minor": 0,
  "metadata": {
    "colab": {
      "name": "SeriesResonance.ipynb",
      "version": "0.3.2",
      "provenance": [],
      "collapsed_sections": [],
      "include_colab_link": true
    },
    "kernelspec": {
      "name": "python3",
      "display_name": "Python 3"
    }
  },
  "cells": [
    {
      "cell_type": "markdown",
      "metadata": {
        "id": "view-in-github",
        "colab_type": "text"
      },
      "source": [
        "<a href=\"https://colab.research.google.com/github/srbee/python/blob/master/SeriesResonance.ipynb\" target=\"_parent\"><img src=\"https://colab.research.google.com/assets/colab-badge.svg\" alt=\"Open In Colab\"/></a>"
      ]
    },
    {
      "cell_type": "code",
      "metadata": {
        "id": "HulXDOya9QQY",
        "colab_type": "code",
        "colab": {}
      },
      "source": [
        ""
      ],
      "execution_count": 0,
      "outputs": []
    },
    {
      "cell_type": "markdown",
      "metadata": {
        "id": "LDioWbui-Ybc",
        "colab_type": "text"
      },
      "source": [
        "#Series Resonance"
      ]
    },
    {
      "cell_type": "code",
      "metadata": {
        "id": "6cjWyTRE-hgf",
        "colab_type": "code",
        "colab": {
          "base_uri": "https://localhost:8080/",
          "height": 316
        },
        "outputId": "d66e54f4-7afd-4e13-80f6-625664ce7c52"
      },
      "source": [
        "import math\n",
        "import cmath\n",
        "import numpy as np\n",
        "import matplotlib.pyplot as plt\n",
        "pi=math.pi\n",
        "R=100\n",
        "L=3e-6\n",
        "C=100e-12\n",
        "fr=(1)/(2*pi*math.sqrt(L*C))\n",
        "\n",
        "print('L=',L,' C= ',C,' f_reso = ',fr)\n",
        "\n",
        "#f=50 # freq in Hz\n",
        "#w=2*pi*f # freq in radians/sec\n",
        "#XL=w*L*1j\n",
        "#print(XL)\n",
        "#XC=1/(w*C*1j)\n",
        "#print(XC)\n",
        "#Z=R+XL+XC\n",
        "#print(Z)\n",
        "#Zmag=abs(Z)\n",
        "#print(Zmag)\n",
        "#Zang_rad=cmath.phase(Z)\n",
        "#Zang_deg=np.degrees(Zang_rad)\n",
        "#print(Zang_rad,Zang_deg)\n",
        "r=(f_reso/10,f_reso*2,f_reso/10)\n",
        "#w=[2*pi*freq for freq in np.arange(1e6,20e6,1e2)]\n",
        "w=[2*pi*freq for freq in np.arange(fr/10,fr*10,fr/20)]\n",
        "\n",
        "\n",
        "w=np.array(w)\n",
        "XL=w*L\n",
        "XC=-1/(w*C)\n",
        "imp=R+w*L*1j+(1/(w*C*1j))  \n",
        "imp_mag=np.abs(imp)\n",
        "plt.plot(w,imp_mag)\n",
        "plt.plot(w,XL)\n",
        "plt.plot(w,XC)\n",
        "\n",
        "#type(w)\n",
        "m=min(imp_mag)\n",
        "print('min imp = ',m)"
      ],
      "execution_count": 42,
      "outputs": [
        {
          "output_type": "stream",
          "text": [
            "L= 3e-06  C=  1e-10  f_reso =  9188814.923696533\n",
            "min imp =  100.0\n"
          ],
          "name": "stdout"
        },
        {
          "output_type": "display_data",
          "data": {
            "image/png": "[encoded data removed]",
            "text/plain": [
              "<Figure size 432x288 with 1 Axes>"
            ]
          },
          "metadata": {
            "tags": []
          }
        }
      ]
    }
  ]
}