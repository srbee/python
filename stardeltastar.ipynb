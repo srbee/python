{
  "nbformat": 4,
  "nbformat_minor": 0,
  "metadata": {
    "colab": {
      "name": "stardeltastar.ipynb",
      "version": "0.3.2",
      "provenance": [],
      "collapsed_sections": [],
      "include_colab_link": true
    },
    "kernelspec": {
      "name": "python3",
      "display_name": "Python 3"
    }
  },
  "cells": [
    {
      "cell_type": "markdown",
      "metadata": {
        "id": "view-in-github",
        "colab_type": "text"
      },
      "source": [
        "<a href=\"https://colab.research.google.com/github/srbee/python/blob/master/stardeltastar.ipynb\" target=\"_parent\"><img src=\"https://colab.research.google.com/assets/colab-badge.svg\" alt=\"Open In Colab\"/></a>"
      ]
    },
    {
      "cell_type": "code",
      "metadata": {
        "id": "lW0XGkxyBkCm",
        "colab_type": "code",
        "colab": {}
      },
      "source": [
        ""
      ],
      "execution_count": 0,
      "outputs": []
    },
    {
      "cell_type": "markdown",
      "metadata": {
        "id": "Yjg3WgYlBrwb",
        "colab_type": "text"
      },
      "source": [
        "# Star to Delta and Delta to Star Transfromation"
      ]
    },
    {
      "cell_type": "code",
      "metadata": {
        "id": "WKsNuMo3B0mE",
        "colab_type": "code",
        "colab": {
          "base_uri": "https://localhost:8080/",
          "height": 346
        },
        "outputId": "39e7efe6-1b28-4184-bb4f-7495b52c90cc"
      },
      "source": [
        "import math\n",
        "\n",
        "def y2d2y(Rx,Ry,Rz,flag):\n",
        "    '''\n",
        "    This is a common function for Y2D or D2Y transformation\n",
        "    For Star to Delta transformation set flag='y2d' while calling.\n",
        "    In case flag='y2d' , the parameters have following meaning\n",
        "    R1=Rx\n",
        "    R2=Ry\n",
        "    R3=Rz\n",
        "    \n",
        "    For Delta to Star Transformation set flag='d2y' while calling.\n",
        "    In case flag='d2y' , the parameters have following meaning\n",
        "    R12=Rx\n",
        "    R23=Ry\n",
        "    R31=Rz\n",
        "    \n",
        "    Usage will like this --> \n",
        "    star=y2d2y(1,2,3,'d2y') \n",
        "      or \n",
        "    delta=y2d2y(1,2,3,'y2d')\n",
        "    \n",
        "    '''\n",
        "    if (flag=='d2y'):\n",
        "        R12=Rx\n",
        "        R23=Ry\n",
        "        R31=Rz\n",
        "        SigmaR=R12+R23+R31\n",
        "        R1=R12*R31/SigmaR\n",
        "        R2=R23*R12/SigmaR\n",
        "        R3=R31*R23/SigmaR\n",
        "        Wye=(R1,R2,R3)\n",
        "        return (Wye)\n",
        "    elif (flag=='y2d'):\n",
        "        R1=Rx\n",
        "        R2=Ry\n",
        "        R3=Rz\n",
        "        R12=R1+R2+((R1*R2)/(R3))\n",
        "        R23=R2+R3+((R2*R3)/(R1))\n",
        "        R31=R3+R1+((R3*R1)/(R2))\n",
        "        Dee=(R12,R23,R31)\n",
        "        return (Dee)\n",
        "        \n",
        "        \n",
        "star_input=(1,1,1)   \n",
        "delta_output=y2d2y(1,1,1,'y2d') \n",
        "print()\n",
        "print( y2d2y.__doc__)\n",
        "        "
      ],
      "execution_count": 12,
      "outputs": [
        {
          "output_type": "stream",
          "text": [
            "(3.0, 3.0, 3.0)\n",
            "\n",
            "    This is a common function for Y2D or D2Y\n",
            "    In case flag='y2d' , the parameters have following meaning\n",
            "    R1=Rx\n",
            "    R2=Ry\n",
            "    R3=Rz\n",
            "    \n",
            "    In case flag='d2y' , the parameters have following meaning\n",
            "    R12=Rx\n",
            "    R23=Ry\n",
            "    R31=Rz\n",
            "    \n",
            "    Usage will like this --> \n",
            "    star=y2d2y(1,2,3,'d2y') \n",
            "      or \n",
            "    delta=y2d2y(1,2,3,'y2d')\n",
            "    \n",
            "    \n"
          ],
          "name": "stdout"
        }
      ]
    },
    {
      "cell_type": "code",
      "metadata": {
        "id": "QrM7POWPEv7x",
        "colab_type": "code",
        "colab": {
          "base_uri": "https://localhost:8080/",
          "height": 130
        },
        "outputId": "bc192f32-804f-48e8-e809-80f5ed9c8ea5"
      },
      "source": [
        "help y2d2y()\n"
      ],
      "execution_count": 9,
      "outputs": [
        {
          "output_type": "error",
          "ename": "SyntaxError",
          "evalue": "ignored",
          "traceback": [
            "\u001b[0;36m  File \u001b[0;32m\"<ipython-input-9-68f0c89a0c72>\"\u001b[0;36m, line \u001b[0;32m1\u001b[0m\n\u001b[0;31m    help y2d2y()\u001b[0m\n\u001b[0m             ^\u001b[0m\n\u001b[0;31mSyntaxError\u001b[0m\u001b[0;31m:\u001b[0m invalid syntax\n"
          ]
        }
      ]
    }
  ]
}