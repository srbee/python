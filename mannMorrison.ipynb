{
  "nbformat": 4,
  "nbformat_minor": 0,
  "metadata": {
    "colab": {
      "name": "mannMorrison.ipynb",
      "version": "0.3.2",
      "provenance": [],
      "collapsed_sections": [],
      "include_colab_link": true
    },
    "kernelspec": {
      "name": "python3",
      "display_name": "Python 3"
    }
  },
  "cells": [
    {
      "cell_type": "markdown",
      "metadata": {
        "id": "view-in-github",
        "colab_type": "text"
      },
      "source": [
        "<a href=\"https://colab.research.google.com/github/srbee/python/blob/master/mannMorrison.ipynb\" target=\"_parent\"><img src=\"https://colab.research.google.com/assets/colab-badge.svg\" alt=\"Open In Colab\"/></a>"
      ]
    },
    {
      "metadata": {
        "id": "L0ZoqnDSpFlq",
        "colab_type": "code",
        "colab": {}
      },
      "cell_type": "code",
      "source": [
        ""
      ],
      "execution_count": 0,
      "outputs": []
    },
    {
      "metadata": {
        "id": "ad26F5lspHN9",
        "colab_type": "text"
      },
      "cell_type": "markdown",
      "source": [
        "# Mann and Morrison Algorithm"
      ]
    },
    {
      "metadata": {
        "id": "R0C2d6pOpKVI",
        "colab_type": "code",
        "colab": {
          "base_uri": "https://localhost:8080/",
          "height": 511
        },
        "outputId": "ea6c70f4-f918-4cbd-a7c3-e6f8075ec243"
      },
      "cell_type": "code",
      "source": [
        "import math\n",
        "import numpy as np\n",
        "import matplotlib.pyplot as plt \n",
        "\n",
        "\n",
        "myImports()\n",
        "pi=np.pi\n",
        "e=math.exp(1)\n",
        "#print(pi,e)\n",
        "a=np.linspace(0,2*np.pi,50)\n",
        "a=np.array(a)\n",
        "s=np.sin(a)\n",
        "print(s)\n",
        "plt.plot(s)"
      ],
      "execution_count": 20,
      "outputs": [
        {
          "output_type": "stream",
          "text": [
            "[ 0.00000000e+00  1.27877162e-01  2.53654584e-01  3.75267005e-01\n",
            "  4.90717552e-01  5.98110530e-01  6.95682551e-01  7.81831482e-01\n",
            "  8.55142763e-01  9.14412623e-01  9.58667853e-01  9.87181783e-01\n",
            "  9.99486216e-01  9.95379113e-01  9.74927912e-01  9.38468422e-01\n",
            "  8.86599306e-01  8.20172255e-01  7.40277997e-01  6.48228395e-01\n",
            "  5.45534901e-01  4.33883739e-01  3.15108218e-01  1.91158629e-01\n",
            "  6.40702200e-02 -6.40702200e-02 -1.91158629e-01 -3.15108218e-01\n",
            " -4.33883739e-01 -5.45534901e-01 -6.48228395e-01 -7.40277997e-01\n",
            " -8.20172255e-01 -8.86599306e-01 -9.38468422e-01 -9.74927912e-01\n",
            " -9.95379113e-01 -9.99486216e-01 -9.87181783e-01 -9.58667853e-01\n",
            " -9.14412623e-01 -8.55142763e-01 -7.81831482e-01 -6.95682551e-01\n",
            " -5.98110530e-01 -4.90717552e-01 -3.75267005e-01 -2.53654584e-01\n",
            " -1.27877162e-01 -2.44929360e-16]\n"
          ],
          "name": "stdout"
        },
        {
          "output_type": "execute_result",
          "data": {
            "text/plain": [
              "[<matplotlib.lines.Line2D at 0x7ff8ca75b630>]"
            ]
          },
          "metadata": {
            "tags": []
          },
          "execution_count": 20
        },
        {
          "output_type": "display_data",
          "data": {
            "image/png": "[encoded data removed]",
            "text/plain": [
              "<Figure size 432x288 with 1 Axes>"
            ]
          },
          "metadata": {
            "tags": []
          }
        }
      ]
    }
  ]
}