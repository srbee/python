{
  "nbformat": 4,
  "nbformat_minor": 0,
  "metadata": {
    "colab": {
      "name": "parallelCombination.ipynb",
      "version": "0.3.2",
      "provenance": [],
      "collapsed_sections": [],
      "include_colab_link": true
    },
    "kernelspec": {
      "name": "python3",
      "display_name": "Python 3"
    }
  },
  "cells": [
    {
      "cell_type": "markdown",
      "metadata": {
        "id": "view-in-github",
        "colab_type": "text"
      },
      "source": [
        "<a href=\"https://colab.research.google.com/github/srbee/python/blob/master/parallelCombination.ipynb\" target=\"_parent\"><img src=\"https://colab.research.google.com/assets/colab-badge.svg\" alt=\"Open In Colab\"/></a>"
      ]
    },
    {
      "cell_type": "code",
      "metadata": {
        "id": "EZQfSVg2Hc-H",
        "colab_type": "code",
        "colab": {
          "base_uri": "https://localhost:8080/",
          "height": 103
        },
        "outputId": "6f96e781-06c4-4dd0-a453-34c314ed1ca8"
      },
      "source": [
        "import math\n",
        "pi=math.pi\n",
        "\n",
        "def p2r(mag,ang):\n",
        "    x=mag*math.cos(ang)\n",
        "    y=mag*math.sin(ang)\n",
        "    r=x+y*1j\n",
        "    return(r)\n",
        "\n",
        "print(100,'/_',pi/2,'(rad)= ',p2r(100,pi/2))\n",
        "\n",
        "\n",
        "def parallel(Z1,Z2):\n",
        "    Zeq=Z1*Z2/(Z1+Z2)\n",
        "    return (Zeq)\n",
        "z1=3+4j\n",
        "z2=1+1j\n",
        "print(parallel(z1,z1))\n",
        "print(parallel(z1-z2,z1+z2))\n",
        "print(parallel(z2,z2))\n",
        "print(parallel(z1*z1,z1))"
      ],
      "execution_count": 11,
      "outputs": [
        {
          "output_type": "stream",
          "text": [
            "100 /_ 1.5707963267948966 (rad)=  (6.123233995736766e-15+100j)\n",
            "(1.5+2j)\n",
            "(1.34+1.88j)\n",
            "(0.5+0.5j)\n",
            "(2.1249999999999996+3.8749999999999996j)\n"
          ],
          "name": "stdout"
        }
      ]
    }
  ]
}