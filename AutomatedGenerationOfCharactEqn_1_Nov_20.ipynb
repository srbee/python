{
  "nbformat": 4,
  "nbformat_minor": 0,
  "metadata": {
    "colab": {
      "name": "Copy of AutomatedGenerationOfCharactEqn_1_Nov_20.ipynb",
      "provenance": [],
      "collapsed_sections": [],
      "authorship_tag": "ABX9TyNlNYvMa3PvHGDwxdPo7zZ1",
      "include_colab_link": true
    },
    "kernelspec": {
      "name": "python3",
      "display_name": "Python 3"
    }
  },
  "cells": [
    {
      "cell_type": "markdown",
      "metadata": {
        "id": "view-in-github",
        "colab_type": "text"
      },
      "source": [
        "<a href=\"https://colab.research.google.com/github/srbee/python/blob/master/AutomatedGenerationOfCharactEqn_1_Nov_20.ipynb\" target=\"_parent\"><img src=\"https://colab.research.google.com/assets/colab-badge.svg\" alt=\"Open In Colab\"/></a>"
      ]
    },
    {
      "cell_type": "markdown",
      "metadata": {
        "id": "wsxu6LGZHAuk"
      },
      "source": [
        "## Automatic Generation of Characteristic Equation Given The Roots"
      ]
    },
    {
      "cell_type": "code",
      "metadata": {
        "id": "LJoqYdCYHI-A",
        "outputId": "16fcd30e-afb3-49b1-c2bf-d1d14ab568fa",
        "colab": {
          "base_uri": "https://localhost:8080/"
        }
      },
      "source": [
        "import numpy as np\n",
        "#========= Enter roots below ==============================\n",
        "roots=np.array([1,2,3,4,5,6,7,8,9,10])    # coeffs=[1,-10,35 ,-50,24]\n",
        "#roots=np.array([-1,2,-3,7]) # coeffs=[1,-5 ,-19,29 ,42]\n",
        "#===============(o)(o)(o)==================================\n",
        "n_roots=roots.size\n",
        "m=np.empty(n_roots+1,dtype=np.object)\n",
        "for i in range(m.shape[0]):\n",
        "    m[i]=[]\n",
        "    m[i].append(0)\n",
        "#print(m)\n",
        "#============ Seed data =======================\n",
        "m[0]=[0]\n",
        "m[1]=[1,2,4]\n",
        "m[2]=[3,5,6]\n",
        "m[3]=[7]\n",
        "#============== End of seed data ==============\n",
        "n=4\n",
        "while(n < n_roots+1):\n",
        " for i in range(n-1,0,-1):\n",
        "  m[i].extend(x+pow(2,n-1) for x in m[i-1]) \n",
        "  m[n][0]=m[n-1][0]+pow(2,n-1) \n",
        " n=n+1\n",
        "\n",
        "# I have to create as many binary matrices as length of m[1],m[2],m[3],m[4]\n",
        "#====== bb[] is for storing all binary matrices  =========\n",
        "bb=np.empty(len(m),dtype=np.object)\n",
        "#print('bb=',bb)\n",
        "#print('shape of bb',bb.shape[0])\n",
        "for i in range(len(m)):\n",
        " bb[i]=np.empty(len(m[i]),dtype=np.object)\n",
        " #print('shape of bb[',i,'] shape[0]',bb[i].shape[0])\n",
        "\n",
        "j=0\n",
        "for i in range(bb[i].shape[0]):\n",
        "  bb[j][i]=[]\n",
        "#============ empty bb[][] matrix created =============\n",
        "#print('shape of bb <><><><>',bb.shape)\n",
        "k=-1\n",
        "for myIndex in range(0,n_roots+1,1):# level 1\n",
        "    for x in m[myIndex]:#Level 2\n",
        "        k=k+1     \n",
        "        c=[]\n",
        "        for bit in bin(x):#Level 3\n",
        "            c.append((bit))\n",
        "        res=[int(ele) if ele.isdigit() else ele for ele in c]\n",
        "        del res[:2]\n",
        "        for i in range(n_roots-len(res)):#Level 3\n",
        "            res.insert(0,0)\n",
        "        bb[myIndex][k]=res\n",
        "    k=-1# I am under in the outer-most for loop Level 1\n",
        "#=========== bb[][] matrix is now populated ===============\n",
        "#print('bb[][]==============',bb)\n",
        "#print('length of m =======',len(m))\n",
        "#==== Generation of 'a' matrix for accumulation of products ===\n",
        "a=np.empty(len(m)-1,dtype=np.object)\n",
        "for i in range(len(m)-1):\n",
        " a[i]=np.ones(len(m[i+1]),dtype=complex)\n",
        "#==========================================\n",
        " #========= function kOutOfn() starts ========================\n",
        "def kOutOfn(nn,matsize,bin_matrix,a_matrix,k,root_array):\n",
        "  for j in range(matsize):\n",
        "    for i in range(nn):\n",
        "     if(bin_matrix[j][i]==1):\n",
        "      a_matrix[k-1][j]=a_matrix[k-1][j]*root_array[i]\n",
        "  summation=np.sum(a_matrix[k-1])\n",
        "  return summation\n",
        "#======== (o)(o)(o) =========\n",
        "#=== creation of big 'm' array m[]=[m1,m2,m3,m4,..,m_n_roots]\n",
        "for i in range(len(m)-1):\n",
        "   m[i]=np.array(m[i+1])\n",
        "#======== (o)(o)(0) ==========\n",
        "#sum1=sum2=sum3=sum4=complex(0,0)\n",
        "#sum=np.array([sum1,sum2,sum3,sum4])\n",
        "sum = np.zeros(n_roots, dtype=complex)\n",
        "for i in range(n_roots):\n",
        " sum[i]=complex(0,0)\n",
        "#nn=n\n",
        "#coeff=np.zeros([n_roots+1],dtype=complex)\n",
        "coeff=np.zeros(n_roots+1,dtype=complex)\n",
        "coeff[0]=1\n",
        "#======= Entire work gets done below ============\n",
        "for i in range(n_roots):\n",
        "  sum[i]=kOutOfn(n_roots,(m[i]).size,bb[i+1],a,i+1,roots)\n",
        "  coeff[i+1]=sum[i]\n",
        "#================================================\n",
        "print('========================================')\n",
        "print('The roots were :',end=' ')\n",
        "for i in range(n_roots):\n",
        "    if(i==n_roots-1):\n",
        "     print(roots[i],end='\\n ')\n",
        "    else:\n",
        "     print(roots[i],end=' ,')   \n",
        "print('========================================')\n",
        "print('Coeffs are :',end='')\n",
        "for i in range(coeff.size):\n",
        " coeff[i]=coeff[i]*pow(-1,i)\n",
        " if(i==coeff.size-1):\n",
        "  print(coeff[i],end=' ')\n",
        " else:\n",
        "  print(coeff[i],end=', ')\n",
        "print('')\n",
        "print('================= Char Eqn ===================================')\n",
        "deg=coeff.size\n",
        "#print('degree',deg)\n",
        "for i in range(deg):\n",
        "    if (deg-1-i==0):\n",
        "      print(coeff[i].real)\n",
        "    else: \n",
        "     if(coeff[i+1].real < 0):\n",
        "        print(coeff[i].real,'s^',(deg-1-i),end=' ') \n",
        "     else:\n",
        "      print(coeff[i].real,'s^',(deg-1-i),end=' + ')\n",
        "print('==============================================================')"
      ],
      "execution_count": 21,
      "outputs": [
        {
          "output_type": "stream",
          "text": [
            "========================================\n",
            "The roots were : 1 ,2 ,3 ,4 ,5 ,6 ,7 ,8 ,9 ,10\n",
            " ========================================\n",
            "Coeffs are :(1+0j), (-55+0j), (1320+0j), (-18150+0j), (157773+0j), (-902055+0j), (3416930+0j), (-8409500+0j), (12753576+0j), (-10628640+0j), (3628800+0j) \n",
            "================= Char Eqn ===================================\n",
            "1.0 s^ 10 -55.0 s^ 9 + 1320.0 s^ 8 -18150.0 s^ 7 + 157773.0 s^ 6 -902055.0 s^ 5 + 3416930.0 s^ 4 -8409500.0 s^ 3 + 12753576.0 s^ 2 -10628640.0 s^ 1 + 3628800.0\n",
            "==============================================================\n"
          ],
          "name": "stdout"
        }
      ]
    }
  ]
}