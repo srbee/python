{
  "nbformat": 4,
  "nbformat_minor": 0,
  "metadata": {
    "colab": {
      "name": "Copy of automatingRouth_Ver_11_28_Oct_20.ipynb",
      "provenance": [],
      "collapsed_sections": [],
      "authorship_tag": "ABX9TyNG4EglLwo4oelAJT5Gd1Y9",
      "include_colab_link": true
    },
    "kernelspec": {
      "name": "python3",
      "display_name": "Python 3"
    }
  },
  "cells": [
    {
      "cell_type": "markdown",
      "metadata": {
        "id": "view-in-github",
        "colab_type": "text"
      },
      "source": [
        "<a href=\"https://colab.research.google.com/github/srbee/python/blob/master/from%20seed%20generates%20matrices%20for%20nth%20order.ipynb\" target=\"_parent\"><img src=\"https://colab.research.google.com/assets/colab-badge.svg\" alt=\"Open In Colab\"/></a>"
      ]
    },
    {
      "cell_type": "markdown",
      "metadata": {
        "id": "Hh6UaulgUWWH"
      },
      "source": [
        "## Selecting k items out of n items using binary pattern"
      ]
    },
    {
      "cell_type": "markdown",
      "metadata": {
        "id": "dUtDTuDcQgRb"
      },
      "source": [
        "Experiment with array to list to array\n"
      ]
    },
    {
      "cell_type": "code",
      "metadata": {
        "id": "_kMMDuk1Qkq5",
        "outputId": "3f86b095-64b6-4204-e5b0-00855a4ca3af",
        "colab": {
          "base_uri": "https://localhost:8080/",
          "height": 211
        }
      },
      "source": [
        "import numpy as np\n",
        "n_roots=4\n",
        "m = np.empty(n_roots+1, dtype=np.object)\n",
        "for i in range(m.shape[0]):\n",
        " m[i] = []\n",
        " m[i].append(0)\n",
        "print(m)\n",
        "#========= Initial data provided to the program ========\n",
        "m[0]=[0]\n",
        "m[1]=[1,2,4]\n",
        "m[2]=[3,5,6]\n",
        "m[3]=[7]\n",
        "#================= End of initial data =================\n",
        "n=3\n",
        "print('n= ',n)\n",
        "for i in range(1,n+1,1):\n",
        " print('m[',i,'] = ',m[i])\n",
        "\n",
        "n=n+1\n",
        "while(n < n_roots+1):\n",
        " for i in range(n-1,0,-1):\n",
        "  m[i].extend(x+pow(2,n-1) for x in m[i-1])\n",
        "\n",
        " m[n][0]=m[n-1][0]+pow(2,n-1)\n",
        " print('====================')\n",
        " print('n= ',n)\n",
        " for i in range(1,n+1,1):\n",
        "  print('new m[',i,']=',m[i])\n",
        " n=n+1\n",
        "#=======================================\n",
        " \n",
        " "
      ],
      "execution_count": null,
      "outputs": [
        {
          "output_type": "stream",
          "text": [
            "[list([0]) list([0]) list([0]) list([0]) list([0])]\n",
            "n=  3\n",
            "m[ 1 ] =  [1, 2, 4]\n",
            "m[ 2 ] =  [3, 5, 6]\n",
            "m[ 3 ] =  [7]\n",
            "====================\n",
            "n=  4\n",
            "new m[ 1 ]= [1, 2, 4, 8]\n",
            "new m[ 2 ]= [3, 5, 6, 9, 10, 12]\n",
            "new m[ 3 ]= [7, 11, 13, 14]\n",
            "new m[ 4 ]= [15]\n"
          ],
          "name": "stdout"
        }
      ]
    }
  ]
}