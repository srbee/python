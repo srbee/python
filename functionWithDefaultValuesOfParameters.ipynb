{
  "nbformat": 4,
  "nbformat_minor": 0,
  "metadata": {
    "colab": {
      "name": "functionWithDefaultValuesOfParameters.ipynb",
      "version": "0.3.2",
      "provenance": [],
      "collapsed_sections": [],
      "include_colab_link": true
    },
    "kernelspec": {
      "name": "python3",
      "display_name": "Python 3"
    }
  },
  "cells": [
    {
      "cell_type": "markdown",
      "metadata": {
        "id": "view-in-github",
        "colab_type": "text"
      },
      "source": [
        "<a href=\"https://colab.research.google.com/github/srbee/python/blob/master/functionWithDefaultValuesOfParameters.ipynb\" target=\"_parent\"><img src=\"https://colab.research.google.com/assets/colab-badge.svg\" alt=\"Open In Colab\"/></a>"
      ]
    },
    {
      "cell_type": "code",
      "metadata": {
        "id": "WlnlwaMLLdu5",
        "colab_type": "code",
        "colab": {
          "base_uri": "https://localhost:8080/",
          "height": 571
        },
        "outputId": "737e463f-f96c-4f16-f663-d7fb833a2106"
      },
      "source": [
        "# Various ways in which a function with built in defaul values can be called\n",
        "\n",
        "def butify(n=10,c='*'):\n",
        "    '''\n",
        "    Whatever is written between the triple quotes, is called a doc string and\n",
        "    will be given by  the following command:-\n",
        "    \n",
        "    print(butify.__doc__)\n",
        "    \n",
        "    Note:-  __ is a double underscore\n",
        "    \n",
        "    This is demo of a function with default values of parameters built in\n",
        "    \n",
        "    '''\n",
        "    print(c*n)\n",
        "\n",
        "butify()\n",
        "butify(n=20) # calling with first parameter the other being default\n",
        "butify(c='=') # calling with second parameter the first being default\n",
        "butify(n=40,c='\\/') # calling with both parameters , will override defaults\n",
        "help(butify())\n",
        "type(butify())\n",
        "address=id(butify)\n",
        "print('address of the function butify() = ',address)\n",
        "docString=butify.__doc__ # accessing the doc-string , which is for documentation\n",
        "print(docString)\n",
        "      "
      ],
      "execution_count": 23,
      "outputs": [
        {
          "output_type": "stream",
          "text": [
            "**********\n",
            "********************\n",
            "==========\n",
            "\\/\\/\\/\\/\\/\\/\\/\\/\\/\\/\\/\\/\\/\\/\\/\\/\\/\\/\\/\\/\\/\\/\\/\\/\\/\\/\\/\\/\\/\\/\\/\\/\\/\\/\\/\\/\\/\\/\\/\\/\n",
            "**********\n",
            "Help on NoneType object:\n",
            "\n",
            "class NoneType(object)\n",
            " |  Methods defined here:\n",
            " |  \n",
            " |  __bool__(self, /)\n",
            " |      self != 0\n",
            " |  \n",
            " |  __new__(*args, **kwargs) from builtins.type\n",
            " |      Create and return a new object.  See help(type) for accurate signature.\n",
            " |  \n",
            " |  __repr__(self, /)\n",
            " |      Return repr(self).\n",
            "\n",
            "**********\n",
            "address of the function butify() =  140525495862000\n",
            "\n",
            "    Whatever is written between the triple quotes, is called a doc string and\n",
            "    will be given by  the following command:-\n",
            "    \n",
            "    print(butify.__doc__)\n",
            "    \n",
            "    Note:-  __ is a double underscore\n",
            "    \n",
            "    This is demo of a function with default values of parameters built in\n",
            "    \n",
            "    \n"
          ],
          "name": "stdout"
        }
      ]
    }
  ]
}