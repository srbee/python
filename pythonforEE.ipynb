{
  "nbformat": 4,
  "nbformat_minor": 0,
  "metadata": {
    "colab": {
      "name": "pythonforEE.ipynb",
      "version": "0.3.2",
      "provenance": [],
      "collapsed_sections": [],
      "toc_visible": true,
      "include_colab_link": true
    },
    "kernelspec": {
      "name": "python3",
      "display_name": "Python 3"
    }
  },
  "cells": [
    {
      "cell_type": "markdown",
      "metadata": {
        "id": "view-in-github",
        "colab_type": "text"
      },
      "source": [
        "<a href=\"https://colab.research.google.com/github/srbee/python/blob/master/pythonforEE.ipynb\" target=\"_parent\"><img src=\"https://colab.research.google.com/assets/colab-badge.svg\" alt=\"Open In Colab\"/></a>"
      ]
    },
    {
      "metadata": {
        "id": "QeJxja3YxYJL",
        "colab_type": "text"
      },
      "cell_type": "markdown",
      "source": [
        "## Python for the Electrical Engineer\n",
        "\n",
        "\n",
        "```\n",
        "print(\"Python for the Electrical Engineer)\n",
        "```\n",
        "\n",
        "\n",
        "\n",
        "\n",
        "\n",
        "\n",
        "\n",
        "---\n",
        "\n"
      ]
    },
    {
      "metadata": {
        "id": "h-JFpaZVx-Lg",
        "colab_type": "code",
        "outputId": "2b813773-a469-4a3a-a45a-09cb2f509cf3",
        "colab": {
          "base_uri": "https://localhost:8080/",
          "height": 373
        }
      },
      "cell_type": "code",
      "source": [
        "import math\n",
        "import numpy as np\n",
        "import cmath \n",
        "#import matplotlib.pyplot as plt\n",
        "import pylab\n",
        "\n",
        "z=3+4j\n",
        "zmag=abs(z)\n",
        "print(zmag)\n",
        "ph=cmath.phase(z)\n",
        "ph_deg=np.degrees(ph)\n",
        "print('phase in radians=',ph,'phase in degrees= ',ph_deg)\n",
        "zpolar=cmath.polar(z) # zpolar <= (zmag,zangle)\n",
        "print(zpolar)\n",
        "zreal=z.real\n",
        "zimag=z.imag\n",
        "print(zreal,zimag)\n",
        "zMag=zpolar[0] # Note first item has index of zero! C style\n",
        "zAng=zpolar[1] # While in MATLAB index of first item is 1\n",
        "print(zMag,zAng)\n",
        "\n",
        "R=1.0\n",
        "L=4e-4\n",
        "C=100e-12\n",
        "\n",
        "\n",
        "f=[freq for freq in np.arange(10e4,.19e7,100)]\n",
        "f=np.array(f)\n",
        "XL=2*math.pi*f*L\n",
        "XC=-1/(2*math.pi*f*C)\n",
        "Z=XL+XC\n",
        "#print(XL)\n",
        "pylab.plot(f,XL,'r',label='XL')\n",
        "pylab.legend(loc='upper left')\n",
        "pylab.plot(f,XC,'b',label='XC')\n",
        "pylab.plot(f,np.zeros_like(f),'g')\n",
        "pylab.plot(f,Z,'y',label='Z')\n",
        "#plt.xlabel('frequency')\n",
        "#plt.ylabel('XL,XC,Z')\n",
        "#plt.show()\n",
        "pylab.legend(loc='upper left')\n"
      ],
      "execution_count": 104,
      "outputs": [
        {
          "output_type": "stream",
          "text": [
            "5.0\n",
            "phase in radians= 0.9272952180016122 phase in degrees=  53.13010235415598\n",
            "(5.0, 0.9272952180016122)\n",
            "3.0 4.0\n",
            "5.0 0.9272952180016122\n"
          ],
          "name": "stdout"
        },
        {
          "output_type": "execute_result",
          "data": {
            "text/plain": [
              "<matplotlib.legend.Legend at 0x7f3b573229b0>"
            ]
          },
          "metadata": {
            "tags": []
          },
          "execution_count": 104
        },
        {
          "output_type": "display_data",
          "data": {
            "image/png": "[encoded data removed]",
            "text/plain": [
              "<Figure size 432x288 with 1 Axes>"
            ]
          },
          "metadata": {
            "tags": []
          }
        }
      ]
    }
  ]
}