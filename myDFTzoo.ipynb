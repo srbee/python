{
  "nbformat": 4,
  "nbformat_minor": 0,
  "metadata": {
    "colab": {
      "name": "myDFTzoo.ipynb",
      "version": "0.3.2",
      "provenance": [],
      "include_colab_link": true
    },
    "kernelspec": {
      "name": "python3",
      "display_name": "Python 3"
    }
  },
  "cells": [
    {
      "cell_type": "markdown",
      "metadata": {
        "id": "view-in-github",
        "colab_type": "text"
      },
      "source": [
        "<a href=\"https://colab.research.google.com/github/srbee/python/blob/master/myDFTzoo.ipynb\" target=\"_parent\"><img src=\"https://colab.research.google.com/assets/colab-badge.svg\" alt=\"Open In Colab\"/></a>"
      ]
    },
    {
      "metadata": {
        "id": "zfeNY8FHI9Ta",
        "colab_type": "code",
        "outputId": "cc081d0a-f04f-438e-ec3d-869b5bd69e0f",
        "colab": {
          "base_uri": "https://localhost:8080/",
          "height": 608
        }
      },
      "cell_type": "code",
      "source": [
        "import math\n",
        "import numpy as np\n",
        "import scipy as sp  # check whether this is correct\n",
        "import matplotlib.pyplot as plt\n",
        "\n",
        "def myDFT(samp):\n",
        "    \"\"\"\n",
        "    myDFT accepts variable number of samples\n",
        "    \n",
        "    \"\"\"\n",
        "    samples=np.array(samp,'float') # convert in to array using numpy\n",
        "    N=len(samples)\n",
        "    Xcos=np.zeros(N)\n",
        "    Xsin=np.zeros(N)\n",
        "    Xmag=np.zeros(N)\n",
        "    \n",
        "    print(\"No of samples= \",N)\n",
        "    \n",
        "    k=0\n",
        "    for m in range(N):\n",
        "        for n in range(N):\n",
        "            Xcos[m]=Xcos[m]+samples[n]*math.cos((2*math.pi*m*n)/N)\n",
        "            Xsin[m]=Xsin[m]+samples[n]*math.sin((2*math.pi*m*n)/N)\n",
        "            Xmag[m]=math.sqrt(Xcos[m]*Xcos[m]+Xsin[m]*Xsin[m])\n",
        "            k+=1\n",
        "            \n",
        "    #print('Xcos=',Xcos)\n",
        "    #print('Xsin=',Xsin)\n",
        "    return (N,Xmag,samples) # Returning a tuple ( three values)\n",
        "#========================================================================\n",
        "#==================== End of function myDFT(signal) =====================\n",
        "#========================================================================\n",
        "\n",
        "print('=== My DFT Jupyter+Lab + Python 3 using variable number of arguments')\n",
        "\n",
        "#============= Signal Zoo =========================================\n",
        "\n",
        "impulse_start=[100,0,0,0,0,0,0,0,0,0,0,0,0,0,0,0,0,0,0,0,0,0,0,0,0\\\n",
        "              ] # Signal No.1\n",
        "\n",
        "impulse_centre=[0,0,0,0,0,0,0,0,0,0,0,0,0,0,0,0,0,0,0,0,0,0,0,\\\n",
        "                100,\\\n",
        "                0,0,0,0,0,0,0,0,0,0,0,0,0,0,0,0,0,0,0,0,0,0,0\\\n",
        "               ] # Signal No.2\n",
        "\n",
        "constant_dc=100*np.ones(20) # SIgnal No.3 \n",
        "\n",
        "pulse_centre=[0,0,0,0,0,0,0,0,0,0,0,0,0,0,0,0,\\\n",
        "                    100,100,100,100,\\\n",
        "              0,0,0,0,0,0,0,0,0,0,0,0,0,0,0,0,0\\\n",
        "             ] # Signal No.4\n",
        "\n",
        "pulse_start=[100,100,100,100,\\\n",
        "             0,0,0,0,0,0,0,0,0,0,0,0,0,0,0,0,0,0,0,\\\n",
        "             0,0,0,0,0,0,0,0,0,0,0,0,0,0,0,0,0,0,0\\\n",
        "             ] # Signal No. 5\n",
        "\n",
        "\n",
        "ramp=[0,1,2,3,4,5,6,7,8,9,10,11,12,13,14,15,16,17,18,19,20\\\n",
        "     ] # Signal No. 6\n",
        "\n",
        "triangle=[0,1,2,3,4,5,6,7,8,9,10,11,12,13,14,15,16,17,18,19,20,\\\n",
        "          19,18,17,16,15,14,13,12,11,10,9,8,7,6,5,4,3,2,1,0\\\n",
        "          ] # Signal No. 7\n",
        "\n",
        "sawtooth=[0,1,2,3,4,5,6,7,8,9,10,11,12,13,14,15,16,17,18,19,20,\\\n",
        "          0,1,2,3,4,5,6,7,8,9,10,11,12,13,14,15,16,17,18,19,20\\\n",
        "         ] # Signal No. 8\n",
        "\n",
        "trapezoid=[0,1,2,3,4,5,6,7,8,9,10,\\\n",
        "           10,10,10,10,10,10,10,10,\\\n",
        "           10,9,8,7,6,5,4,3,2,1,0\\\n",
        "          ] # Signal No. 9\n",
        "   # =============  Following is list comprehension ==============\n",
        "cosine =[100*math.cos(x) for x in np.arange(0,2*math.pi,math.pi/18)] # Sig No.10\n",
        "# Following is list comprehension\n",
        "sine   =[100*math.sin(x) for x in np.arange(0,2*math.pi,math.pi/18)]#sig No 11\n",
        "\n",
        "halfwave= [100*math.sin(x) if (x<=math.pi) else 0  for x in np.arange(0,2*math.pi,math.pi/36) ] # Sig No 12\n",
        "\n",
        "fullwave=[abs(100*math.sin(x)) for x in np.arange(0,2*math.pi,math.pi/36)] #  Sig No. 13\n",
        "\n",
        "squares=[x*x for x in np.arange(1,20,1)] # Sig No 14\n",
        "\n",
        "n=10\n",
        "nonlin_incr =[pow(x,n) for x in np.arange(.1,2,.01)] # Sig No 15\n",
        "\n",
        "nonlin_decr =[100*pow(x,1) for x in np.arange(0.1,2,.01)] # Sig No. 16\n",
        "\n",
        "e=math.exp(1) \n",
        "\n",
        "ed=[100*pow(e,2)*pow(e,-t) for t in np.arange(0,2,0.2)] # Sig No  17\n",
        "\n",
        "ei=[100*pow(e, t) for t in np.arange(0,2,0.2,)] # Sig No 18\n",
        "\n",
        "ei_copy=ei\n",
        "\n",
        "ei_copy.extend(ed)\n",
        "double_expo=ei_copy # Sig No 19\n",
        "\n",
        "\n",
        "\n",
        "\n",
        "\n",
        "\n",
        "#================= End of Signal Zoo  ========================\n",
        "#print(msig)\n",
        "\n",
        "#===========================================================\n",
        "N,XX,signal=myDFT(halfwave)#  <= Call to myDFT(signal)\n",
        "#===========================================================\n",
        "\n",
        "Nby2=int(N/2)\n",
        "XXX=np.roll(XX,Nby2)\n",
        "# third entity returned is the name of the input array\n",
        "x = np.arange(N) \n",
        "xshift=x-Nby2\n",
        "#print(xshift)\n",
        "#==========  For plotting signal waveform ======================\n",
        "markerline, stemlines, baseline = plt.stem(x,signal, '-*')\n",
        "# setting property of baseline with color red and linewidth 2\n",
        "plt.setp(baseline, color='b', linewidth=2)\n",
        "plt.title('Input signal samples')\n",
        "plt.xlabel('Sample no. ')\n",
        "plt.ylabel('Sample Value')\n",
        "plt.show() # Signal waveform\n",
        "#===============================================================\n",
        "\n",
        "#========== For plotting DFT ===================================\n",
        "markerline, stemlines, baseline = plt.stem(xshift, XXX, '-*')\n",
        "# setting property of baseline with color red and linewidth 2\n",
        "plt.setp(baseline, color='b', linewidth=2)\n",
        "plt.title('DFT' )\n",
        "plt.xlabel('Harmonic number')\n",
        "plt.ylabel('Magnitude of harmonic')\n",
        "\n",
        "plt.show() #  DFT \n",
        "#========================================\n",
        "\n",
        "from scipy.fftpack import fft, ifft\n",
        "y=abs(fft(signal))\n",
        "#print(XX)\n",
        "#print(y)\n",
        "#print(XX-y)"
      ],
      "execution_count": 9,
      "outputs": [
        {
          "output_type": "stream",
          "text": [
            "=== My DFT Jupyter+Lab + Python 3 using variable number of arguments\n",
            "No of samples=  72\n"
          ],
          "name": "stdout"
        },
        {
          "output_type": "display_data",
          "data": {
            "image/png": "[encoded data removed]",
            "text/plain": [
              "<Figure size 432x288 with 1 Axes>"
            ]
          },
          "metadata": {
            "tags": []
          }
        },
        {
          "output_type": "display_data",
          "data": {
            "image/png": "[encoded data removed]",
            "text/plain": [
              "<Figure size 432x288 with 1 Axes>"
            ]
          },
          "metadata": {
            "tags": []
          }
        }
      ]
    }
  ]
}