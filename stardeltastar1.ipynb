{
  "nbformat": 4,
  "nbformat_minor": 0,
  "metadata": {
    "colab": {
      "name": "stardeltastar1.ipynb",
      "version": "0.3.2",
      "provenance": [],
      "collapsed_sections": [],
      "include_colab_link": true
    },
    "kernelspec": {
      "name": "python3",
      "display_name": "Python 3"
    }
  },
  "cells": [
    {
      "cell_type": "markdown",
      "metadata": {
        "id": "view-in-github",
        "colab_type": "text"
      },
      "source": [
        "<a href=\"https://colab.research.google.com/github/srbee/python/blob/master/stardeltastar1.ipynb\" target=\"_parent\"><img src=\"https://colab.research.google.com/assets/colab-badge.svg\" alt=\"Open In Colab\"/></a>"
      ]
    },
    {
      "cell_type": "code",
      "metadata": {
        "id": "lW0XGkxyBkCm",
        "colab_type": "code",
        "colab": {}
      },
      "source": [
        ""
      ],
      "execution_count": 0,
      "outputs": []
    },
    {
      "cell_type": "markdown",
      "metadata": {
        "id": "Yjg3WgYlBrwb",
        "colab_type": "text"
      },
      "source": [
        "# Star to Delta and Delta to Star Transfromation\n",
        "15 May 2019"
      ]
    },
    {
      "cell_type": "code",
      "metadata": {
        "id": "WKsNuMo3B0mE",
        "colab_type": "code",
        "colab": {
          "base_uri": "https://localhost:8080/",
          "height": 398
        },
        "outputId": "b9224261-ae94-4e07-b1e7-e46ba0cf3400"
      },
      "source": [
        "import math\n",
        "pi=math.pi\n",
        "\n",
        "# ==== function y2d2y(Rtuple,flag) =================\n",
        "\n",
        "def y2d2y(Rtuple,flag):\n",
        "    '''\n",
        "    This is a common function for Y2D or D2Y transformation\n",
        "    Resistance values are passed via a 3 valued tuple (Rx,Ry,Rz)\n",
        "    \n",
        "    For Star to Delta transformation set flag='y2d' while calling.\n",
        "    In case flag='y2d' , the parameters have following meaning\n",
        "    R1=Rtuple[0]\n",
        "    R2=Rtuple[1]\n",
        "    R3=Rtuple[2]\n",
        "    \n",
        "    For Delta to Star Transformation set flag='d2y' while calling.\n",
        "    In case flag='d2y' , the parameters have following meaning\n",
        "    R12=Rtuple[0]\n",
        "    R23=Rtuple[1]\n",
        "    R31=Rtuple[2]\n",
        "    \n",
        "    Usage will like this --> \n",
        "    star=y2d2y(1,2,3,'d2y') \n",
        "      or \n",
        "    delta=y2d2y(1,2,3,'y2d')\n",
        "    \n",
        "    '''\n",
        "    Rx=Rtuple[0]\n",
        "    Ry=Rtuple[1]\n",
        "    Rz=Rtuple[2]\n",
        "    \n",
        "    \n",
        "    if (flag=='d2y'):\n",
        "        R12=Rx\n",
        "        R23=Ry\n",
        "        R31=Rz\n",
        "        SigmaR=R12+R23+R31\n",
        "        R1=R12*R31/SigmaR\n",
        "        R2=R23*R12/SigmaR\n",
        "        R3=R31*R23/SigmaR\n",
        "        Wye=(R1,R2,R3)\n",
        "        return (Wye)\n",
        "    elif (flag=='y2d'):\n",
        "        R1=Rx\n",
        "        R2=Ry\n",
        "        R3=Rz\n",
        "        R12=R1+R2+((R1*R2)/(R3))\n",
        "        R23=R2+R3+((R2*R3)/(R1))\n",
        "        R31=R3+R1+((R3*R1)/(R2))\n",
        "        Dee=(R12,R23,R31)\n",
        "        return (Dee)\n",
        "    \n",
        "# ==== End of function y2d2y(Rtuple,flag) ============    \n",
        "        \n",
        "star_input=(1,1,1)   # Tuple for star\n",
        "delta_output=y2d2y(star_input,'y2d') \n",
        "print('Star Input =',star_input,': Delta_output = ',delta_output)\n",
        "\n",
        "delta_input=(1,1,1) # Tuple for delta\n",
        "star_output=y2d2y(delta_input,'d2y')\n",
        "print('Delta Input =',delta_input,': Star_output = ',star_output)\n",
        "\n",
        "print( y2d2y.__doc__) # for printing documentation string of the function\n",
        "        "
      ],
      "execution_count": 25,
      "outputs": [
        {
          "output_type": "stream",
          "text": [
            "Star Input = (1, 1, 1) : Delta_output =  (3.0, 3.0, 3.0)\n",
            "Delta Input = (1, 1, 1) : Star_output =  (0.3333333333333333, 0.3333333333333333, 0.3333333333333333)\n",
            "\n",
            "    This is a common function for Y2D or D2Y transformation\n",
            "    For Star to Delta transformation set flag='y2d' while calling.\n",
            "    In case flag='y2d' , the parameters have following meaning\n",
            "    R1=Rx\n",
            "    R2=Ry\n",
            "    R3=Rz\n",
            "    \n",
            "    For Delta to Star Transformation set flag='d2y' while calling.\n",
            "    In case flag='d2y' , the parameters have following meaning\n",
            "    R12=Rx\n",
            "    R23=Ry\n",
            "    R31=Rz\n",
            "    \n",
            "    Usage will like this --> \n",
            "    star=y2d2y(1,2,3,'d2y') \n",
            "      or \n",
            "    delta=y2d2y(1,2,3,'y2d')\n",
            "    \n",
            "    \n"
          ],
          "name": "stdout"
        }
      ]
    }
  ]
}