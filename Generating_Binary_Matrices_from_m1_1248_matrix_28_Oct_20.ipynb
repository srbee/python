{
  "nbformat": 4,
  "nbformat_minor": 0,
  "metadata": {
    "colab": {
      "name": "Generating Binary Matrices from m1 1248 matrix_28_Oct_20.ipynb",
      "provenance": [],
      "collapsed_sections": [],
      "authorship_tag": "ABX9TyP62WEan0hjU6gaP6kpG4Nu",
      "include_colab_link": true
    },
    "kernelspec": {
      "name": "python3",
      "display_name": "Python 3"
    }
  },
  "cells": [
    {
      "cell_type": "markdown",
      "metadata": {
        "id": "view-in-github",
        "colab_type": "text"
      },
      "source": [
        "<a href=\"https://colab.research.google.com/github/srbee/python/blob/master/Generating_Binary_Matrices_from_m1_1248_matrix_28_Oct_20.ipynb\" target=\"_parent\"><img src=\"https://colab.research.google.com/assets/colab-badge.svg\" alt=\"Open In Colab\"/></a>"
      ]
    },
    {
      "cell_type": "markdown",
      "metadata": {
        "id": "wsxu6LGZHAuk"
      },
      "source": [
        "Generating Binary Matrices from m1=[1,2,4,8]"
      ]
    },
    {
      "cell_type": "code",
      "metadata": {
        "id": "LJoqYdCYHI-A",
        "outputId": "6a1afbd7-d378-4260-d47b-b188195b91d8",
        "colab": {
          "base_uri": "https://localhost:8080/",
          "height": 404
        }
      },
      "source": [
        "import numpy as np\n",
        "n=5\n",
        "m=np.empty(n,dtype=np.object)\n",
        "for i in range(m.shape[0]):\n",
        "    m[i]=[]\n",
        "    m[i].append(0)\n",
        "m[0]=[0]\n",
        "m[1]=[1,2,4,8]\n",
        "m[2]=[3,5,6,9,10,12]\n",
        "m[3]=[7,11,13,14]\n",
        "m[4]=[15]\n",
        "# I have to create as many binary matrices as length of m[1],m[2],m[3],m[4]\n",
        "bb1=np.empty(len(m[1]),dtype=np.object)\n",
        "for i in range(bb1.shape[0]):\n",
        "    bb1[i]=[]\n",
        "    bb1[i].append(0)\n",
        "k=-1\n",
        "for x in m[1]:\n",
        "    k=k+1\n",
        "    first=x\n",
        "    b1=bin(first)\n",
        "    c=[]\n",
        "    for digit in b1:\n",
        "        c.append((digit))\n",
        "    res=[int(ele) if ele.isdigit() else ele for ele in c]\n",
        "    del res[:2]\n",
        "    for i in range(4-len(res)):\n",
        "        res.insert(0,0)\n",
        "    bb1[k]=res\n",
        "print('m[1]=',m[1])\n",
        "for i in range(len(bb1)):\n",
        " print('bb1[',i,']=',bb1[i])\n",
        " #==============================================================\n",
        " bb2=np.empty(len(m[2]),dtype=np.object)\n",
        "for i in range(bb2.shape[0]):\n",
        "    bb2[i]=[]\n",
        "    bb2[i].append(0)\n",
        "k=-1\n",
        "for x in m[2]:\n",
        "    k=k+1\n",
        "    first=x\n",
        "    b1=bin(first)\n",
        "    c=[]\n",
        "    for digit in b1:\n",
        "        c.append((digit))\n",
        "    res=[int(ele) if ele.isdigit() else ele for ele in c]\n",
        "    del res[:2]\n",
        "    for i in range(4-len(res)):\n",
        "        res.insert(0,0)\n",
        "    bb2[k]=res\n",
        "print('========================================================')\n",
        "print('m[2]=',m[2])\n",
        "for i in range(len(bb2)):\n",
        " print('bb2[',i,']=',bb2[i])\n",
        " #==============================================================\n",
        " bb3=np.empty(len(m[3]),dtype=np.object)\n",
        "for i in range(bb3.shape[0]):\n",
        "    bb3[i]=[]\n",
        "    bb3[i].append(0)\n",
        "k=-1\n",
        "for x in m[3]:\n",
        "    k=k+1\n",
        "    first=x\n",
        "    b1=bin(first)\n",
        "    c=[]\n",
        "    for digit in b1:\n",
        "        c.append((digit))\n",
        "    res=[int(ele) if ele.isdigit() else ele for ele in c]\n",
        "    del res[:2]\n",
        "    for i in range(4-len(res)):\n",
        "        res.insert(0,0)\n",
        "    bb3[k]=res\n",
        "print('========================================================')\n",
        "print('m[3]=',m[3])\n",
        "for i in range(len(bb3)):\n",
        " print('bb3[',i,']=',bb3[i])\n",
        " #==============================================================\n",
        " bb4=np.empty(len(m[4]),dtype=np.object)\n",
        "for i in range(bb4.shape[0]):\n",
        "    bb4[i]=[]\n",
        "    bb4[i].append(0)\n",
        "k=-1\n",
        "for x in m[4]:\n",
        "    k=k+1\n",
        "    first=x\n",
        "    b1=bin(first)\n",
        "    c=[]\n",
        "    for digit in b1:\n",
        "        c.append((digit))\n",
        "    res=[int(ele) if ele.isdigit() else ele for ele in c]\n",
        "    del res[:2]\n",
        "    for i in range(4-len(res)):\n",
        "        res.insert(0,0)\n",
        "    bb4[k]=res\n",
        "print('========================================================')\n",
        "print('m[4]=',m[4])\n",
        "for i in range(len(bb4)):\n",
        " print('bb4[',i,']=',bb4[i])"
      ],
      "execution_count": 10,
      "outputs": [
        {
          "output_type": "stream",
          "text": [
            "m[1]= [1, 2, 4, 8]\n",
            "bb1[ 0 ]= [0, 0, 0, 1]\n",
            "bb1[ 1 ]= [0, 0, 1, 0]\n",
            "bb1[ 2 ]= [0, 1, 0, 0]\n",
            "bb1[ 3 ]= [1, 0, 0, 0]\n",
            "========================================================\n",
            "m[2]= [3, 5, 6, 9, 10, 12]\n",
            "bb2[ 0 ]= [0, 0, 1, 1]\n",
            "bb2[ 1 ]= [0, 1, 0, 1]\n",
            "bb2[ 2 ]= [0, 1, 1, 0]\n",
            "bb2[ 3 ]= [1, 0, 0, 1]\n",
            "bb2[ 4 ]= [1, 0, 1, 0]\n",
            "bb2[ 5 ]= [1, 1, 0, 0]\n",
            "========================================================\n",
            "m[3]= [7, 11, 13, 14]\n",
            "bb3[ 0 ]= [0, 1, 1, 1]\n",
            "bb3[ 1 ]= [1, 0, 1, 1]\n",
            "bb3[ 2 ]= [1, 1, 0, 1]\n",
            "bb3[ 3 ]= [1, 1, 1, 0]\n",
            "========================================================\n",
            "m[4]= [15]\n",
            "bb4[ 0 ]= [1, 1, 1, 1]\n"
          ],
          "name": "stdout"
        }
      ]
    }
  ]
}